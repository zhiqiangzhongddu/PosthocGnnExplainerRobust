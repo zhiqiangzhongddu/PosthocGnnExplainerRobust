{
 "cells": [
  {
   "cell_type": "code",
   "execution_count": 1,
   "id": "initial_id",
   "metadata": {
    "collapsed": true,
    "ExecuteTime": {
     "end_time": "2024-02-13T17:36:49.303148Z",
     "start_time": "2024-02-13T17:36:46.471648Z"
    }
   },
   "outputs": [],
   "source": [
    "import datetime\n",
    "import torch\n",
    "\n",
    "from torch_geometric.loader import DataLoader\n",
    "from gnnexplainer import GNNExplainer\n",
    "from pgexplainer import PGExplainer\n",
    "\n",
    "from load_data import load_data\n",
    "from gnn_dig import load_gnn_model\n",
    "from train_and_evaluate_dig import train, test\n",
    "from explanation_analysis import generate_explanation_dig, save_edge_masks_dig\n",
    "from utils import set_seed, save_model, load_model, manipulate_dataset, parse_args\n",
    "\n",
    "import warnings\n",
    "warnings.filterwarnings('ignore')"
   ]
  },
  {
   "cell_type": "code",
   "execution_count": 2,
   "outputs": [
    {
     "name": "stdout",
     "output_type": "stream",
     "text": [
      "Namespace(dataset='BA_2motifs', ex_epoch=100, ex_lr=0.001, explainer_model='PGExplainer', fast_mode=False, gnn_epoch=200, gnn_hid_dim=128, gnn_lr=0.001, gnn_model='GIN_3l_BN', gpu_id=0, manipulate_ratio=1.0, save_explanation=False, seed=0)\n"
     ]
    }
   ],
   "source": [
    "args = parse_args()\n",
    "# args.fast_mode = True\n",
    "args.gpu_id = 0\n",
    "args.dataset = \"BA_2motifs\"\n",
    "args.manipulate_ratio = 1.\n",
    "args.gnn_model = \"GIN_3l_BN\"\n",
    "args.explainer_model = \"PGExplainer\"\n",
    "\n",
    "if args.fast_mode and args.explainer_model == \"PGExplainer\":\n",
    "    args.ex_epoch = 10\n",
    "\n",
    "if args.dataset.lower() == \"Mutagenicity\".lower():\n",
    "    args.save_explanation = True\n",
    "    \n",
    "device = torch.device(\n",
    "    'cuda:%s' % args.gpu_id if torch.cuda.is_available() else 'cpu'\n",
    ")\n",
    "set_seed(args.seed)\n",
    "\n",
    "print(args)"
   ],
   "metadata": {
    "collapsed": false,
    "ExecuteTime": {
     "end_time": "2024-02-13T17:36:49.312518Z",
     "start_time": "2024-02-13T17:36:49.306315Z"
    }
   },
   "id": "e049a9aac55ec81c"
  },
  {
   "cell_type": "code",
   "execution_count": 3,
   "outputs": [
    {
     "name": "stdout",
     "output_type": "stream",
     "text": [
      "\n",
      "Dataset: BA2MotifDataset(1000):\n",
      "====================\n",
      "Number of graphs: 1000\n",
      "Number of node features: 10\n",
      "Number of edge features: 0\n",
      "Number of classes: 2\n",
      "N. train: 700, N. valid: 100, N. test: 200\n"
     ]
    }
   ],
   "source": [
    "# load dataset\n",
    "dataset, train_dataset, val_dataset, test_dataset = load_data(args=args)\n",
    "\n",
    "# manipulate dataset by reversing their label\n",
    "if args.manipulate_ratio == 0:\n",
    "    pass\n",
    "else:\n",
    "    train_dataset = manipulate_dataset(dataset=train_dataset, ratio=args.manipulate_ratio)\n",
    "    val_dataset = manipulate_dataset(dataset=val_dataset, ratio=args.manipulate_ratio)\n",
    "\n",
    "train_loader = DataLoader(train_dataset, batch_size=128, shuffle=True)\n",
    "val_loader = DataLoader(val_dataset, batch_size=128, shuffle=False)\n",
    "test_loader = DataLoader(test_dataset, batch_size=128, shuffle=False)"
   ],
   "metadata": {
    "collapsed": false,
    "ExecuteTime": {
     "end_time": "2024-02-13T17:36:49.480644Z",
     "start_time": "2024-02-13T17:36:49.314824Z"
    }
   },
   "id": "7ecb5abf8f7ee6f9"
  },
  {
   "cell_type": "code",
   "execution_count": 3,
   "outputs": [],
   "source": [],
   "metadata": {
    "collapsed": false,
    "ExecuteTime": {
     "end_time": "2024-02-13T17:36:49.485579Z",
     "start_time": "2024-02-13T17:36:49.483131Z"
    }
   },
   "id": "9d537cf26cc9a709"
  },
  {
   "cell_type": "code",
   "execution_count": 4,
   "outputs": [
    {
     "name": "stdout",
     "output_type": "stream",
     "text": [
      "GIN_3l_BN(\n",
      "  (conv1): GINConv(nn=Sequential(\n",
      "    (0): Linear(in_features=10, out_features=128, bias=True)\n",
      "    (1): ReLU()\n",
      "    (2): Linear(in_features=128, out_features=128, bias=True)\n",
      "    (3): ReLU()\n",
      "  ))\n",
      "  (convs): ModuleList(\n",
      "    (0-1): 2 x GINConv(nn=Sequential(\n",
      "      (0): Linear(in_features=128, out_features=128, bias=True)\n",
      "      (1): ReLU()\n",
      "      (2): Linear(in_features=128, out_features=128, bias=True)\n",
      "      (3): ReLU()\n",
      "    ))\n",
      "  )\n",
      "  (relu1): Sequential(\n",
      "    (0): BatchNorm1d(128, eps=1e-05, momentum=0.1, affine=True, track_running_stats=True)\n",
      "    (1): ReLU()\n",
      "  )\n",
      "  (relus): ModuleList(\n",
      "    (0-1): 2 x Sequential(\n",
      "      (0): BatchNorm1d(128, eps=1e-05, momentum=0.1, affine=True, track_running_stats=True)\n",
      "      (1): ReLU()\n",
      "    )\n",
      "  )\n",
      "  (readout): GlobalMeanPool()\n",
      "  (ffn): Sequential(\n",
      "    (0): Linear(in_features=128, out_features=128, bias=True)\n",
      "    (1): ReLU()\n",
      "    (2): Dropout(p=0.5, inplace=False)\n",
      "    (3): Linear(in_features=128, out_features=2, bias=True)\n",
      "  )\n",
      "  (dropout): Dropout(p=0.5, inplace=False)\n",
      ")\n"
     ]
    }
   ],
   "source": [
    "model = load_gnn_model(args=args, dataset=dataset)\n",
    "print(model)\n",
    "\n",
    "optimizer = torch.optim.Adam(model.parameters(), lr=args.gnn_lr, weight_decay=5e-4)\n",
    "criterion = torch.nn.CrossEntropyLoss()"
   ],
   "metadata": {
    "collapsed": false,
    "ExecuteTime": {
     "end_time": "2024-02-13T17:36:49.531532Z",
     "start_time": "2024-02-13T17:36:49.486485Z"
    }
   },
   "id": "1e1080cf7a8322ea"
  },
  {
   "cell_type": "code",
   "execution_count": 5,
   "outputs": [
    {
     "name": "stdout",
     "output_type": "stream",
     "text": [
      "Epoch: 001, Loss: 0.6936 Train Acc: 0.5029, Val Acc: 0.4900\n",
      "Epoch: 002, Loss: 0.6939 Train Acc: 0.5029, Val Acc: 0.4900\n",
      "Epoch: 003, Loss: 0.6942 Train Acc: 0.5029, Val Acc: 0.4900\n",
      "Epoch: 004, Loss: 0.6931 Train Acc: 0.5857, Val Acc: 0.4800\n",
      "Epoch: 005, Loss: 0.6926 Train Acc: 0.5029, Val Acc: 0.4900\n",
      "Epoch: 006, Loss: 0.6913 Train Acc: 0.5029, Val Acc: 0.4900\n",
      "Epoch: 007, Loss: 0.6919 Train Acc: 0.5729, Val Acc: 0.4700\n",
      "Epoch: 008, Loss: 0.6926 Train Acc: 0.6257, Val Acc: 0.6000\n",
      "Epoch: 009, Loss: 0.6881 Train Acc: 0.6400, Val Acc: 0.5300\n",
      "Epoch: 010, Loss: 0.6870 Train Acc: 0.6114, Val Acc: 0.6100\n",
      "Epoch: 011, Loss: 0.6828 Train Acc: 0.5043, Val Acc: 0.4900\n",
      "Epoch: 012, Loss: 0.6773 Train Acc: 0.6543, Val Acc: 0.5800\n",
      "Epoch: 013, Loss: 0.6677 Train Acc: 0.6814, Val Acc: 0.6100\n",
      "Epoch: 014, Loss: 0.6341 Train Acc: 0.4971, Val Acc: 0.5100\n",
      "Epoch: 015, Loss: 0.6323 Train Acc: 0.6657, Val Acc: 0.6000\n",
      "Epoch: 016, Loss: 0.5713 Train Acc: 0.8243, Val Acc: 0.7900\n",
      "Epoch: 017, Loss: 0.4766 Train Acc: 0.8886, Val Acc: 0.8700\n",
      "Epoch: 018, Loss: 0.5320 Train Acc: 0.8829, Val Acc: 0.8600\n",
      "Epoch: 019, Loss: 0.3631 Train Acc: 0.8600, Val Acc: 0.8400\n",
      "Epoch: 020, Loss: 0.3473 Train Acc: 0.8486, Val Acc: 0.8100\n",
      "Epoch: 021, Loss: 0.2713 Train Acc: 0.9500, Val Acc: 0.9200\n",
      "Epoch: 022, Loss: 0.2319 Train Acc: 0.9229, Val Acc: 0.8800\n",
      "Epoch: 023, Loss: 0.4272 Train Acc: 0.9486, Val Acc: 0.9000\n",
      "Epoch: 024, Loss: 0.2758 Train Acc: 0.8986, Val Acc: 0.8800\n",
      "Epoch: 025, Loss: 0.2380 Train Acc: 0.9614, Val Acc: 0.9300\n",
      "Epoch: 026, Loss: 0.1682 Train Acc: 0.9700, Val Acc: 0.9200\n",
      "Epoch: 027, Loss: 0.1315 Train Acc: 0.9843, Val Acc: 0.9600\n",
      "Epoch: 028, Loss: 0.1130 Train Acc: 0.9900, Val Acc: 0.9600\n",
      "Epoch: 029, Loss: 0.0972 Train Acc: 0.9800, Val Acc: 0.9500\n",
      "Epoch: 030, Loss: 0.0916 Train Acc: 0.9600, Val Acc: 0.9300\n",
      "Epoch: 031, Loss: 0.0968 Train Acc: 0.9886, Val Acc: 0.9600\n",
      "Epoch: 032, Loss: 0.0600 Train Acc: 0.9900, Val Acc: 0.9700\n",
      "Epoch: 033, Loss: 0.0448 Train Acc: 0.9943, Val Acc: 0.9700\n",
      "Epoch: 034, Loss: 0.0367 Train Acc: 0.9943, Val Acc: 0.9700\n",
      "Epoch: 035, Loss: 0.0338 Train Acc: 0.9971, Val Acc: 0.9900\n",
      "Epoch: 036, Loss: 0.0369 Train Acc: 0.9943, Val Acc: 0.9800\n",
      "Epoch: 037, Loss: 0.0329 Train Acc: 0.9914, Val Acc: 0.9800\n",
      "Epoch: 038, Loss: 0.0482 Train Acc: 0.9843, Val Acc: 0.9800\n",
      "Epoch: 039, Loss: 0.0468 Train Acc: 0.9700, Val Acc: 0.9600\n",
      "Epoch: 040, Loss: 0.0541 Train Acc: 0.9943, Val Acc: 0.9800\n",
      "Epoch: 041, Loss: 0.0464 Train Acc: 0.9729, Val Acc: 0.9500\n",
      "Epoch: 042, Loss: 0.2583 Train Acc: 0.8457, Val Acc: 0.8400\n",
      "Epoch: 043, Loss: 0.5116 Train Acc: 0.6557, Val Acc: 0.7200\n",
      "Epoch: 044, Loss: 0.2707 Train Acc: 0.9686, Val Acc: 0.9300\n",
      "Epoch: 045, Loss: 0.0971 Train Acc: 0.9943, Val Acc: 1.0000\n",
      "Epoch: 046, Loss: 0.0656 Train Acc: 0.9929, Val Acc: 0.9700\n",
      "Epoch: 047, Loss: 0.0495 Train Acc: 0.9943, Val Acc: 1.0000\n",
      "Epoch: 048, Loss: 0.0470 Train Acc: 0.9971, Val Acc: 0.9900\n",
      "Epoch: 049, Loss: 0.0295 Train Acc: 0.9986, Val Acc: 0.9900\n",
      "Epoch: 050, Loss: 0.0253 Train Acc: 0.9986, Val Acc: 0.9900\n",
      "Epoch: 051, Loss: 0.0239 Train Acc: 0.9986, Val Acc: 0.9900\n",
      "Epoch: 052, Loss: 0.0170 Train Acc: 1.0000, Val Acc: 0.9900\n",
      "Epoch: 053, Loss: 0.0167 Train Acc: 0.9986, Val Acc: 0.9900\n",
      "Epoch: 054, Loss: 0.0136 Train Acc: 0.9986, Val Acc: 0.9900\n",
      "Epoch: 055, Loss: 0.0106 Train Acc: 1.0000, Val Acc: 0.9900\n",
      "Epoch: 056, Loss: 0.0089 Train Acc: 1.0000, Val Acc: 0.9900\n",
      "Epoch: 057, Loss: 0.0073 Train Acc: 1.0000, Val Acc: 0.9900\n",
      "Epoch: 058, Loss: 0.0083 Train Acc: 1.0000, Val Acc: 0.9900\n",
      "Epoch: 059, Loss: 0.0068 Train Acc: 0.9986, Val Acc: 0.9900\n",
      "Epoch: 060, Loss: 0.0105 Train Acc: 1.0000, Val Acc: 0.9900\n",
      "Epoch: 061, Loss: 0.0073 Train Acc: 0.9986, Val Acc: 0.9900\n",
      "Epoch: 062, Loss: 0.0053 Train Acc: 1.0000, Val Acc: 0.9900\n",
      "Epoch: 063, Loss: 0.0059 Train Acc: 1.0000, Val Acc: 0.9900\n",
      "Epoch: 064, Loss: 0.0073 Train Acc: 1.0000, Val Acc: 0.9900\n",
      "Epoch: 065, Loss: 0.0050 Train Acc: 1.0000, Val Acc: 0.9900\n",
      "Epoch: 066, Loss: 0.0054 Train Acc: 1.0000, Val Acc: 0.9900\n",
      "Epoch: 067, Loss: 0.0045 Train Acc: 1.0000, Val Acc: 0.9900\n",
      "Epoch: 068, Loss: 0.0042 Train Acc: 1.0000, Val Acc: 0.9900\n",
      "Epoch: 069, Loss: 0.0039 Train Acc: 1.0000, Val Acc: 0.9900\n",
      "Epoch: 070, Loss: 0.0032 Train Acc: 1.0000, Val Acc: 0.9900\n",
      "Epoch: 071, Loss: 0.0033 Train Acc: 1.0000, Val Acc: 0.9900\n",
      "Epoch: 072, Loss: 0.0029 Train Acc: 1.0000, Val Acc: 0.9900\n",
      "Epoch: 073, Loss: 0.0030 Train Acc: 1.0000, Val Acc: 0.9900\n",
      "Epoch: 074, Loss: 0.0025 Train Acc: 1.0000, Val Acc: 0.9900\n",
      "Epoch: 075, Loss: 0.0039 Train Acc: 1.0000, Val Acc: 0.9900\n",
      "Epoch: 076, Loss: 0.0038 Train Acc: 1.0000, Val Acc: 0.9900\n",
      "Epoch: 077, Loss: 0.0044 Train Acc: 1.0000, Val Acc: 0.9900\n",
      "Epoch: 078, Loss: 0.0024 Train Acc: 1.0000, Val Acc: 0.9900\n",
      "Epoch: 079, Loss: 0.0024 Train Acc: 1.0000, Val Acc: 0.9900\n",
      "Epoch: 080, Loss: 0.0029 Train Acc: 1.0000, Val Acc: 0.9900\n",
      "Epoch: 081, Loss: 0.0019 Train Acc: 1.0000, Val Acc: 0.9900\n",
      "Epoch: 082, Loss: 0.0023 Train Acc: 1.0000, Val Acc: 0.9900\n",
      "Epoch: 083, Loss: 0.0019 Train Acc: 1.0000, Val Acc: 0.9900\n",
      "Epoch: 084, Loss: 0.0019 Train Acc: 1.0000, Val Acc: 0.9900\n",
      "Epoch: 085, Loss: 0.0019 Train Acc: 1.0000, Val Acc: 0.9900\n",
      "Epoch: 086, Loss: 0.0022 Train Acc: 1.0000, Val Acc: 0.9900\n",
      "Epoch: 087, Loss: 0.0033 Train Acc: 1.0000, Val Acc: 0.9900\n",
      "Epoch: 088, Loss: 0.0040 Train Acc: 1.0000, Val Acc: 0.9900\n",
      "Epoch: 089, Loss: 0.0090 Train Acc: 1.0000, Val Acc: 0.9900\n",
      "Epoch: 090, Loss: 0.0072 Train Acc: 1.0000, Val Acc: 0.9900\n",
      "Epoch: 091, Loss: 0.0036 Train Acc: 1.0000, Val Acc: 0.9800\n",
      "Epoch: 092, Loss: 0.0036 Train Acc: 1.0000, Val Acc: 0.9900\n",
      "Epoch: 093, Loss: 0.0035 Train Acc: 1.0000, Val Acc: 0.9900\n",
      "Epoch: 094, Loss: 0.0024 Train Acc: 1.0000, Val Acc: 0.9900\n",
      "Epoch: 095, Loss: 0.0025 Train Acc: 1.0000, Val Acc: 0.9900\n",
      "Epoch: 096, Loss: 0.0016 Train Acc: 1.0000, Val Acc: 0.9900\n",
      "Epoch: 097, Loss: 0.0016 Train Acc: 1.0000, Val Acc: 0.9900\n",
      "Epoch: 098, Loss: 0.0011 Train Acc: 1.0000, Val Acc: 0.9900\n",
      "Epoch: 099, Loss: 0.0011 Train Acc: 1.0000, Val Acc: 0.9900\n",
      "Epoch: 100, Loss: 0.0016 Train Acc: 1.0000, Val Acc: 0.9900\n",
      "Epoch: 101, Loss: 0.0030 Train Acc: 1.0000, Val Acc: 0.9900\n",
      "Epoch: 102, Loss: 0.0039 Train Acc: 1.0000, Val Acc: 0.9900\n",
      "Epoch: 103, Loss: 0.0017 Train Acc: 0.9986, Val Acc: 0.9800\n",
      "Epoch: 104, Loss: 0.0033 Train Acc: 1.0000, Val Acc: 0.9900\n",
      "Epoch: 105, Loss: 0.0022 Train Acc: 1.0000, Val Acc: 0.9900\n",
      "Epoch: 106, Loss: 0.0018 Train Acc: 1.0000, Val Acc: 0.9900\n",
      "Epoch: 107, Loss: 0.0016 Train Acc: 1.0000, Val Acc: 0.9900\n",
      "Epoch: 108, Loss: 0.0016 Train Acc: 1.0000, Val Acc: 0.9900\n",
      "Epoch: 109, Loss: 0.0015 Train Acc: 1.0000, Val Acc: 0.9900\n",
      "Epoch: 110, Loss: 0.0014 Train Acc: 1.0000, Val Acc: 0.9900\n",
      "Epoch: 111, Loss: 0.0018 Train Acc: 1.0000, Val Acc: 0.9900\n",
      "Epoch: 112, Loss: 0.0019 Train Acc: 1.0000, Val Acc: 0.9900\n",
      "Epoch: 113, Loss: 0.0019 Train Acc: 1.0000, Val Acc: 0.9900\n",
      "Epoch: 114, Loss: 0.0010 Train Acc: 1.0000, Val Acc: 0.9900\n",
      "Epoch: 115, Loss: 0.0010 Train Acc: 1.0000, Val Acc: 0.9900\n",
      "Epoch: 116, Loss: 0.0013 Train Acc: 1.0000, Val Acc: 0.9900\n",
      "Epoch: 117, Loss: 0.0013 Train Acc: 1.0000, Val Acc: 0.9900\n",
      "Epoch: 118, Loss: 0.0012 Train Acc: 1.0000, Val Acc: 0.9900\n",
      "Epoch: 119, Loss: 0.0015 Train Acc: 1.0000, Val Acc: 0.9900\n",
      "Epoch: 120, Loss: 0.0018 Train Acc: 1.0000, Val Acc: 0.9900\n",
      "Epoch: 121, Loss: 0.0011 Train Acc: 1.0000, Val Acc: 0.9900\n",
      "Epoch: 122, Loss: 0.0009 Train Acc: 1.0000, Val Acc: 0.9900\n",
      "Epoch: 123, Loss: 0.0015 Train Acc: 1.0000, Val Acc: 0.9900\n",
      "Epoch: 124, Loss: 0.0014 Train Acc: 1.0000, Val Acc: 0.9900\n",
      "Epoch: 125, Loss: 0.0015 Train Acc: 1.0000, Val Acc: 0.9900\n",
      "Epoch: 126, Loss: 0.0017 Train Acc: 1.0000, Val Acc: 0.9900\n",
      "Epoch: 127, Loss: 0.0010 Train Acc: 1.0000, Val Acc: 0.9900\n",
      "Epoch: 128, Loss: 0.0010 Train Acc: 1.0000, Val Acc: 0.9900\n",
      "Epoch: 129, Loss: 0.0012 Train Acc: 1.0000, Val Acc: 0.9900\n",
      "Epoch: 130, Loss: 0.0009 Train Acc: 1.0000, Val Acc: 0.9900\n",
      "Epoch: 131, Loss: 0.0008 Train Acc: 1.0000, Val Acc: 0.9900\n",
      "Epoch: 132, Loss: 0.0014 Train Acc: 1.0000, Val Acc: 0.9900\n",
      "Epoch: 133, Loss: 0.0012 Train Acc: 1.0000, Val Acc: 0.9900\n",
      "Epoch: 134, Loss: 0.0013 Train Acc: 1.0000, Val Acc: 0.9900\n",
      "Epoch: 135, Loss: 0.0008 Train Acc: 1.0000, Val Acc: 0.9900\n",
      "Epoch: 136, Loss: 0.0009 Train Acc: 1.0000, Val Acc: 0.9900\n",
      "Epoch: 137, Loss: 0.0017 Train Acc: 1.0000, Val Acc: 0.9900\n",
      "Epoch: 138, Loss: 0.0009 Train Acc: 1.0000, Val Acc: 0.9900\n",
      "Epoch: 139, Loss: 0.0012 Train Acc: 1.0000, Val Acc: 0.9900\n",
      "Epoch: 140, Loss: 0.0026 Train Acc: 1.0000, Val Acc: 0.9900\n",
      "Epoch: 141, Loss: 0.0035 Train Acc: 1.0000, Val Acc: 0.9900\n",
      "Epoch: 142, Loss: 0.0021 Train Acc: 1.0000, Val Acc: 0.9900\n",
      "Epoch: 143, Loss: 0.0015 Train Acc: 1.0000, Val Acc: 0.9800\n",
      "Epoch: 144, Loss: 0.0020 Train Acc: 1.0000, Val Acc: 0.9900\n",
      "Epoch: 145, Loss: 0.0014 Train Acc: 1.0000, Val Acc: 0.9900\n",
      "Epoch: 146, Loss: 0.0010 Train Acc: 1.0000, Val Acc: 0.9900\n",
      "Epoch: 147, Loss: 0.0013 Train Acc: 1.0000, Val Acc: 0.9900\n",
      "Epoch: 148, Loss: 0.0009 Train Acc: 1.0000, Val Acc: 0.9900\n",
      "Epoch: 149, Loss: 0.0008 Train Acc: 1.0000, Val Acc: 0.9900\n",
      "Epoch: 150, Loss: 0.0007 Train Acc: 1.0000, Val Acc: 0.9900\n",
      "Epoch: 151, Loss: 0.0016 Train Acc: 1.0000, Val Acc: 1.0000\n",
      "Epoch: 152, Loss: 0.0022 Train Acc: 1.0000, Val Acc: 0.9900\n",
      "Epoch: 153, Loss: 0.0012 Train Acc: 1.0000, Val Acc: 0.9900\n",
      "Epoch: 154, Loss: 0.0010 Train Acc: 1.0000, Val Acc: 0.9900\n",
      "Epoch: 155, Loss: 0.0007 Train Acc: 1.0000, Val Acc: 0.9900\n",
      "Epoch: 156, Loss: 0.0009 Train Acc: 1.0000, Val Acc: 0.9900\n",
      "Epoch: 157, Loss: 0.0007 Train Acc: 1.0000, Val Acc: 0.9900\n",
      "Epoch: 158, Loss: 0.0009 Train Acc: 1.0000, Val Acc: 0.9900\n",
      "Epoch: 159, Loss: 0.0012 Train Acc: 1.0000, Val Acc: 0.9900\n",
      "Epoch: 160, Loss: 0.0007 Train Acc: 1.0000, Val Acc: 0.9900\n",
      "Epoch: 161, Loss: 0.0011 Train Acc: 1.0000, Val Acc: 0.9900\n",
      "Epoch: 162, Loss: 0.0010 Train Acc: 1.0000, Val Acc: 0.9900\n",
      "Epoch: 163, Loss: 0.0007 Train Acc: 1.0000, Val Acc: 0.9900\n",
      "Epoch: 164, Loss: 0.0033 Train Acc: 0.9986, Val Acc: 1.0000\n",
      "Epoch: 165, Loss: 0.0037 Train Acc: 1.0000, Val Acc: 0.9900\n",
      "Epoch: 166, Loss: 0.0017 Train Acc: 1.0000, Val Acc: 0.9900\n",
      "Epoch: 167, Loss: 0.0013 Train Acc: 1.0000, Val Acc: 0.9900\n",
      "Epoch: 168, Loss: 0.0015 Train Acc: 1.0000, Val Acc: 0.9900\n",
      "Epoch: 169, Loss: 0.0010 Train Acc: 1.0000, Val Acc: 0.9900\n",
      "Epoch: 170, Loss: 0.0011 Train Acc: 1.0000, Val Acc: 0.9900\n",
      "Epoch: 171, Loss: 0.0007 Train Acc: 1.0000, Val Acc: 0.9900\n",
      "Epoch: 172, Loss: 0.0009 Train Acc: 1.0000, Val Acc: 0.9900\n",
      "Epoch: 173, Loss: 0.0007 Train Acc: 1.0000, Val Acc: 0.9900\n",
      "Epoch: 174, Loss: 0.0009 Train Acc: 1.0000, Val Acc: 0.9900\n",
      "Epoch: 175, Loss: 0.0007 Train Acc: 1.0000, Val Acc: 0.9900\n",
      "Epoch: 176, Loss: 0.0008 Train Acc: 1.0000, Val Acc: 0.9900\n",
      "Epoch: 177, Loss: 0.0006 Train Acc: 1.0000, Val Acc: 0.9900\n",
      "Epoch: 178, Loss: 0.0012 Train Acc: 1.0000, Val Acc: 1.0000\n",
      "Epoch: 179, Loss: 0.0010 Train Acc: 1.0000, Val Acc: 0.9900\n",
      "Epoch: 180, Loss: 0.0006 Train Acc: 1.0000, Val Acc: 0.9900\n",
      "Epoch: 181, Loss: 0.0009 Train Acc: 1.0000, Val Acc: 0.9900\n",
      "Epoch: 182, Loss: 0.0017 Train Acc: 1.0000, Val Acc: 0.9900\n",
      "Epoch: 183, Loss: 0.0033 Train Acc: 1.0000, Val Acc: 0.9900\n",
      "Epoch: 184, Loss: 0.0035 Train Acc: 1.0000, Val Acc: 0.9900\n",
      "Epoch: 185, Loss: 0.0015 Train Acc: 1.0000, Val Acc: 0.9800\n",
      "Epoch: 186, Loss: 0.0029 Train Acc: 1.0000, Val Acc: 0.9900\n",
      "Epoch: 187, Loss: 0.0024 Train Acc: 1.0000, Val Acc: 0.9900\n",
      "Epoch: 188, Loss: 0.0012 Train Acc: 1.0000, Val Acc: 0.9900\n",
      "Epoch: 189, Loss: 0.0012 Train Acc: 1.0000, Val Acc: 0.9900\n",
      "Epoch: 190, Loss: 0.0008 Train Acc: 1.0000, Val Acc: 0.9900\n",
      "Epoch: 191, Loss: 0.0008 Train Acc: 1.0000, Val Acc: 0.9900\n",
      "Epoch: 192, Loss: 0.0006 Train Acc: 1.0000, Val Acc: 0.9900\n",
      "Epoch: 193, Loss: 0.0007 Train Acc: 1.0000, Val Acc: 0.9900\n",
      "Epoch: 194, Loss: 0.0007 Train Acc: 1.0000, Val Acc: 0.9900\n",
      "Epoch: 195, Loss: 0.0007 Train Acc: 1.0000, Val Acc: 0.9900\n",
      "Epoch: 196, Loss: 0.0006 Train Acc: 1.0000, Val Acc: 0.9900\n",
      "Epoch: 197, Loss: 0.0012 Train Acc: 1.0000, Val Acc: 0.9900\n",
      "Epoch: 198, Loss: 0.0007 Train Acc: 1.0000, Val Acc: 0.9900\n",
      "Epoch: 199, Loss: 0.0008 Train Acc: 1.0000, Val Acc: 0.9900\n",
      "Epoch: 200, Loss: 0.0010 Train Acc: 1.0000, Val Acc: 0.9900\n",
      "Train Acc: 0.9943, Valid Acc: 1.0000, Test Acc: 0.0150\n"
     ]
    }
   ],
   "source": [
    "best_val_acc = test_acc = 0\n",
    "now = datetime.datetime.now()\n",
    "best_model_filename = f\"best_model_{now.hour}_{now.minute}_{now.second}.pth\"\n",
    "\n",
    "for epoch in range(1, args.gnn_epoch+1):\n",
    "    loss = train(\n",
    "        model=model, train_loader=train_loader, optimizer=optimizer, device=device\n",
    "    )\n",
    "    train_acc = test(model=model, loader=train_loader, device=device)\n",
    "    val_acc = test(model=model, loader=val_loader, device=device)\n",
    "    if val_acc > best_val_acc:\n",
    "        best_val_acc = val_acc\n",
    "        save_model(model=model, filename=best_model_filename)  # Save the current model\n",
    "    print(f'Epoch: {epoch:03d}, Loss: {loss:.4f} Train Acc: {train_acc:.4f}, Val Acc: {val_acc:.4f}')\n",
    "\n",
    "# Load the best model and evaluate on the test set\n",
    "load_model(model=model, filename=best_model_filename)\n",
    "train_acc = test(model=model, loader=train_loader, device=device)\n",
    "val_acc = test(model=model, loader=val_loader, device=device)\n",
    "test_acc = test(model=model, loader=test_loader, device=device)\n",
    "print(f'Train Acc: {train_acc:.4f}, Valid Acc: {val_acc:.4f}, Test Acc: {test_acc:.4f}')"
   ],
   "metadata": {
    "collapsed": false,
    "ExecuteTime": {
     "end_time": "2024-02-13T17:37:21.688854Z",
     "start_time": "2024-02-13T17:36:49.531387Z"
    }
   },
   "id": "6b4aa4f14e16c39f"
  },
  {
   "cell_type": "code",
   "execution_count": 6,
   "outputs": [
    {
     "name": "stdout",
     "output_type": "stream",
     "text": [
      "training PGExplainer\n"
     ]
    },
    {
     "name": "stderr",
     "output_type": "stream",
     "text": [
      "100%|██████████| 700/700 [00:03<00:00, 181.80it/s]\n",
      "100%|██████████| 700/700 [00:07<00:00, 88.30it/s]\n"
     ]
    },
    {
     "name": "stdout",
     "output_type": "stream",
     "text": [
      "Epoch: 0 | Loss: 1283.1314597129822\n"
     ]
    },
    {
     "name": "stderr",
     "output_type": "stream",
     "text": [
      "100%|██████████| 700/700 [00:07<00:00, 88.76it/s]\n"
     ]
    },
    {
     "name": "stdout",
     "output_type": "stream",
     "text": [
      "Epoch: 1 | Loss: 1259.301480859518\n"
     ]
    },
    {
     "name": "stderr",
     "output_type": "stream",
     "text": [
      "100%|██████████| 700/700 [00:07<00:00, 88.86it/s]\n"
     ]
    },
    {
     "name": "stdout",
     "output_type": "stream",
     "text": [
      "Epoch: 2 | Loss: 1247.1258131563663\n"
     ]
    },
    {
     "name": "stderr",
     "output_type": "stream",
     "text": [
      "100%|██████████| 700/700 [00:07<00:00, 88.90it/s]\n"
     ]
    },
    {
     "name": "stdout",
     "output_type": "stream",
     "text": [
      "Epoch: 3 | Loss: 1223.521841943264\n"
     ]
    },
    {
     "name": "stderr",
     "output_type": "stream",
     "text": [
      "100%|██████████| 700/700 [00:07<00:00, 93.21it/s]\n"
     ]
    },
    {
     "name": "stdout",
     "output_type": "stream",
     "text": [
      "Epoch: 4 | Loss: 1206.6200764775276\n"
     ]
    },
    {
     "name": "stderr",
     "output_type": "stream",
     "text": [
      "100%|██████████| 700/700 [00:07<00:00, 95.51it/s]\n"
     ]
    },
    {
     "name": "stdout",
     "output_type": "stream",
     "text": [
      "Epoch: 5 | Loss: 1184.319948360324\n"
     ]
    },
    {
     "name": "stderr",
     "output_type": "stream",
     "text": [
      "100%|██████████| 700/700 [00:07<00:00, 88.57it/s]\n"
     ]
    },
    {
     "name": "stdout",
     "output_type": "stream",
     "text": [
      "Epoch: 6 | Loss: 1168.714027017355\n"
     ]
    },
    {
     "name": "stderr",
     "output_type": "stream",
     "text": [
      "100%|██████████| 700/700 [00:07<00:00, 88.76it/s]\n"
     ]
    },
    {
     "name": "stdout",
     "output_type": "stream",
     "text": [
      "Epoch: 7 | Loss: 1154.4424302726984\n"
     ]
    },
    {
     "name": "stderr",
     "output_type": "stream",
     "text": [
      "100%|██████████| 700/700 [00:07<00:00, 88.86it/s]\n"
     ]
    },
    {
     "name": "stdout",
     "output_type": "stream",
     "text": [
      "Epoch: 8 | Loss: 1139.9920891970396\n"
     ]
    },
    {
     "name": "stderr",
     "output_type": "stream",
     "text": [
      "100%|██████████| 700/700 [00:07<00:00, 89.10it/s]\n"
     ]
    },
    {
     "name": "stdout",
     "output_type": "stream",
     "text": [
      "Epoch: 9 | Loss: 1126.943503215909\n"
     ]
    },
    {
     "name": "stderr",
     "output_type": "stream",
     "text": [
      "100%|██████████| 700/700 [00:07<00:00, 89.05it/s]\n"
     ]
    },
    {
     "name": "stdout",
     "output_type": "stream",
     "text": [
      "Epoch: 10 | Loss: 1112.5348004698753\n"
     ]
    },
    {
     "name": "stderr",
     "output_type": "stream",
     "text": [
      "100%|██████████| 700/700 [00:07<00:00, 89.01it/s]\n"
     ]
    },
    {
     "name": "stdout",
     "output_type": "stream",
     "text": [
      "Epoch: 11 | Loss: 1103.136912599206\n"
     ]
    },
    {
     "name": "stderr",
     "output_type": "stream",
     "text": [
      "100%|██████████| 700/700 [00:07<00:00, 87.87it/s]\n"
     ]
    },
    {
     "name": "stdout",
     "output_type": "stream",
     "text": [
      "Epoch: 12 | Loss: 1092.232505902648\n"
     ]
    },
    {
     "name": "stderr",
     "output_type": "stream",
     "text": [
      "100%|██████████| 700/700 [00:08<00:00, 87.30it/s]\n"
     ]
    },
    {
     "name": "stdout",
     "output_type": "stream",
     "text": [
      "Epoch: 13 | Loss: 1083.4716954827309\n"
     ]
    },
    {
     "name": "stderr",
     "output_type": "stream",
     "text": [
      "100%|██████████| 700/700 [00:08<00:00, 87.42it/s]\n"
     ]
    },
    {
     "name": "stdout",
     "output_type": "stream",
     "text": [
      "Epoch: 14 | Loss: 1075.9405370950699\n"
     ]
    },
    {
     "name": "stderr",
     "output_type": "stream",
     "text": [
      "100%|██████████| 700/700 [00:07<00:00, 87.86it/s]\n"
     ]
    },
    {
     "name": "stdout",
     "output_type": "stream",
     "text": [
      "Epoch: 15 | Loss: 1064.563217997551\n"
     ]
    },
    {
     "name": "stderr",
     "output_type": "stream",
     "text": [
      "100%|██████████| 700/700 [00:07<00:00, 88.21it/s]\n"
     ]
    },
    {
     "name": "stdout",
     "output_type": "stream",
     "text": [
      "Epoch: 16 | Loss: 1060.7282246053219\n"
     ]
    },
    {
     "name": "stderr",
     "output_type": "stream",
     "text": [
      "100%|██████████| 700/700 [00:07<00:00, 88.20it/s]\n"
     ]
    },
    {
     "name": "stdout",
     "output_type": "stream",
     "text": [
      "Epoch: 17 | Loss: 1058.1052361875772\n"
     ]
    },
    {
     "name": "stderr",
     "output_type": "stream",
     "text": [
      "100%|██████████| 700/700 [00:07<00:00, 88.03it/s]\n"
     ]
    },
    {
     "name": "stdout",
     "output_type": "stream",
     "text": [
      "Epoch: 18 | Loss: 1049.612675562501\n"
     ]
    },
    {
     "name": "stderr",
     "output_type": "stream",
     "text": [
      "100%|██████████| 700/700 [00:07<00:00, 88.06it/s]\n"
     ]
    },
    {
     "name": "stdout",
     "output_type": "stream",
     "text": [
      "Epoch: 19 | Loss: 1042.0073565393686\n"
     ]
    },
    {
     "name": "stderr",
     "output_type": "stream",
     "text": [
      "100%|██████████| 700/700 [00:07<00:00, 87.96it/s]\n"
     ]
    },
    {
     "name": "stdout",
     "output_type": "stream",
     "text": [
      "Epoch: 20 | Loss: 1036.8068566918373\n"
     ]
    },
    {
     "name": "stderr",
     "output_type": "stream",
     "text": [
      "100%|██████████| 700/700 [00:07<00:00, 87.85it/s]\n"
     ]
    },
    {
     "name": "stdout",
     "output_type": "stream",
     "text": [
      "Epoch: 21 | Loss: 1032.5767567455769\n"
     ]
    },
    {
     "name": "stderr",
     "output_type": "stream",
     "text": [
      "100%|██████████| 700/700 [00:08<00:00, 83.53it/s]\n"
     ]
    },
    {
     "name": "stdout",
     "output_type": "stream",
     "text": [
      "Epoch: 22 | Loss: 1025.7818055301905\n"
     ]
    },
    {
     "name": "stderr",
     "output_type": "stream",
     "text": [
      "100%|██████████| 700/700 [00:09<00:00, 76.97it/s]\n"
     ]
    },
    {
     "name": "stdout",
     "output_type": "stream",
     "text": [
      "Epoch: 23 | Loss: 1025.0290607959032\n"
     ]
    },
    {
     "name": "stderr",
     "output_type": "stream",
     "text": [
      "100%|██████████| 700/700 [00:09<00:00, 76.96it/s]\n"
     ]
    },
    {
     "name": "stdout",
     "output_type": "stream",
     "text": [
      "Epoch: 24 | Loss: 1021.5198516398668\n"
     ]
    },
    {
     "name": "stderr",
     "output_type": "stream",
     "text": [
      "100%|██████████| 700/700 [00:09<00:00, 77.02it/s]\n"
     ]
    },
    {
     "name": "stdout",
     "output_type": "stream",
     "text": [
      "Epoch: 25 | Loss: 1019.9152511954308\n"
     ]
    },
    {
     "name": "stderr",
     "output_type": "stream",
     "text": [
      "100%|██████████| 700/700 [00:09<00:00, 76.91it/s]\n"
     ]
    },
    {
     "name": "stdout",
     "output_type": "stream",
     "text": [
      "Epoch: 26 | Loss: 1014.2341841608286\n"
     ]
    },
    {
     "name": "stderr",
     "output_type": "stream",
     "text": [
      "100%|██████████| 700/700 [00:09<00:00, 76.90it/s]\n"
     ]
    },
    {
     "name": "stdout",
     "output_type": "stream",
     "text": [
      "Epoch: 27 | Loss: 1010.0257352292538\n"
     ]
    },
    {
     "name": "stderr",
     "output_type": "stream",
     "text": [
      "100%|██████████| 700/700 [00:08<00:00, 82.21it/s]\n"
     ]
    },
    {
     "name": "stdout",
     "output_type": "stream",
     "text": [
      "Epoch: 28 | Loss: 1009.8767112195492\n"
     ]
    },
    {
     "name": "stderr",
     "output_type": "stream",
     "text": [
      "100%|██████████| 700/700 [00:07<00:00, 88.56it/s]\n"
     ]
    },
    {
     "name": "stdout",
     "output_type": "stream",
     "text": [
      "Epoch: 29 | Loss: 1004.942217707634\n"
     ]
    },
    {
     "name": "stderr",
     "output_type": "stream",
     "text": [
      "100%|██████████| 700/700 [00:07<00:00, 87.75it/s]\n"
     ]
    },
    {
     "name": "stdout",
     "output_type": "stream",
     "text": [
      "Epoch: 30 | Loss: 1002.132453083992\n"
     ]
    },
    {
     "name": "stderr",
     "output_type": "stream",
     "text": [
      "100%|██████████| 700/700 [00:07<00:00, 87.89it/s]\n"
     ]
    },
    {
     "name": "stdout",
     "output_type": "stream",
     "text": [
      "Epoch: 31 | Loss: 998.1884600818157\n"
     ]
    },
    {
     "name": "stderr",
     "output_type": "stream",
     "text": [
      "100%|██████████| 700/700 [00:07<00:00, 87.68it/s]\n"
     ]
    },
    {
     "name": "stdout",
     "output_type": "stream",
     "text": [
      "Epoch: 32 | Loss: 994.7130023390055\n"
     ]
    },
    {
     "name": "stderr",
     "output_type": "stream",
     "text": [
      "100%|██████████| 700/700 [00:07<00:00, 87.87it/s]\n"
     ]
    },
    {
     "name": "stdout",
     "output_type": "stream",
     "text": [
      "Epoch: 33 | Loss: 989.3069160431623\n"
     ]
    },
    {
     "name": "stderr",
     "output_type": "stream",
     "text": [
      "100%|██████████| 700/700 [00:07<00:00, 87.87it/s]\n"
     ]
    },
    {
     "name": "stdout",
     "output_type": "stream",
     "text": [
      "Epoch: 34 | Loss: 992.6620364487171\n"
     ]
    },
    {
     "name": "stderr",
     "output_type": "stream",
     "text": [
      "100%|██████████| 700/700 [00:07<00:00, 87.84it/s]\n"
     ]
    },
    {
     "name": "stdout",
     "output_type": "stream",
     "text": [
      "Epoch: 35 | Loss: 986.1289637237787\n"
     ]
    },
    {
     "name": "stderr",
     "output_type": "stream",
     "text": [
      "100%|██████████| 700/700 [00:07<00:00, 87.91it/s]\n"
     ]
    },
    {
     "name": "stdout",
     "output_type": "stream",
     "text": [
      "Epoch: 36 | Loss: 982.8520016521215\n"
     ]
    },
    {
     "name": "stderr",
     "output_type": "stream",
     "text": [
      "100%|██████████| 700/700 [00:08<00:00, 83.38it/s]\n"
     ]
    },
    {
     "name": "stdout",
     "output_type": "stream",
     "text": [
      "Epoch: 37 | Loss: 985.1311707645655\n"
     ]
    },
    {
     "name": "stderr",
     "output_type": "stream",
     "text": [
      "100%|██████████| 700/700 [00:07<00:00, 88.17it/s]\n"
     ]
    },
    {
     "name": "stdout",
     "output_type": "stream",
     "text": [
      "Epoch: 38 | Loss: 978.5982787460089\n"
     ]
    },
    {
     "name": "stderr",
     "output_type": "stream",
     "text": [
      "100%|██████████| 700/700 [00:07<00:00, 88.31it/s]\n"
     ]
    },
    {
     "name": "stdout",
     "output_type": "stream",
     "text": [
      "Epoch: 39 | Loss: 977.1664851903915\n"
     ]
    },
    {
     "name": "stderr",
     "output_type": "stream",
     "text": [
      "100%|██████████| 700/700 [00:07<00:00, 88.17it/s]\n"
     ]
    },
    {
     "name": "stdout",
     "output_type": "stream",
     "text": [
      "Epoch: 40 | Loss: 976.8341814428568\n"
     ]
    },
    {
     "name": "stderr",
     "output_type": "stream",
     "text": [
      "100%|██████████| 700/700 [00:07<00:00, 88.19it/s]\n"
     ]
    },
    {
     "name": "stdout",
     "output_type": "stream",
     "text": [
      "Epoch: 41 | Loss: 975.2293108403683\n"
     ]
    },
    {
     "name": "stderr",
     "output_type": "stream",
     "text": [
      "100%|██████████| 700/700 [00:07<00:00, 88.29it/s]\n"
     ]
    },
    {
     "name": "stdout",
     "output_type": "stream",
     "text": [
      "Epoch: 42 | Loss: 968.5541907995939\n"
     ]
    },
    {
     "name": "stderr",
     "output_type": "stream",
     "text": [
      "100%|██████████| 700/700 [00:07<00:00, 88.04it/s]\n"
     ]
    },
    {
     "name": "stdout",
     "output_type": "stream",
     "text": [
      "Epoch: 43 | Loss: 968.0839033573866\n"
     ]
    },
    {
     "name": "stderr",
     "output_type": "stream",
     "text": [
      "100%|██████████| 700/700 [00:07<00:00, 88.02it/s]\n"
     ]
    },
    {
     "name": "stdout",
     "output_type": "stream",
     "text": [
      "Epoch: 44 | Loss: 966.1660152077675\n"
     ]
    },
    {
     "name": "stderr",
     "output_type": "stream",
     "text": [
      "100%|██████████| 700/700 [00:07<00:00, 87.79it/s]\n"
     ]
    },
    {
     "name": "stdout",
     "output_type": "stream",
     "text": [
      "Epoch: 45 | Loss: 965.8425975441933\n"
     ]
    },
    {
     "name": "stderr",
     "output_type": "stream",
     "text": [
      "100%|██████████| 700/700 [00:07<00:00, 87.95it/s]\n"
     ]
    },
    {
     "name": "stdout",
     "output_type": "stream",
     "text": [
      "Epoch: 46 | Loss: 959.139415949583\n"
     ]
    },
    {
     "name": "stderr",
     "output_type": "stream",
     "text": [
      "100%|██████████| 700/700 [00:07<00:00, 88.00it/s]\n"
     ]
    },
    {
     "name": "stdout",
     "output_type": "stream",
     "text": [
      "Epoch: 47 | Loss: 959.0613195300102\n"
     ]
    },
    {
     "name": "stderr",
     "output_type": "stream",
     "text": [
      "100%|██████████| 700/700 [00:07<00:00, 87.97it/s]\n"
     ]
    },
    {
     "name": "stdout",
     "output_type": "stream",
     "text": [
      "Epoch: 48 | Loss: 957.0862386524677\n"
     ]
    },
    {
     "name": "stderr",
     "output_type": "stream",
     "text": [
      "100%|██████████| 700/700 [00:07<00:00, 87.97it/s]\n"
     ]
    },
    {
     "name": "stdout",
     "output_type": "stream",
     "text": [
      "Epoch: 49 | Loss: 952.1943862885237\n"
     ]
    },
    {
     "name": "stderr",
     "output_type": "stream",
     "text": [
      "100%|██████████| 700/700 [00:07<00:00, 87.96it/s]\n"
     ]
    },
    {
     "name": "stdout",
     "output_type": "stream",
     "text": [
      "Epoch: 50 | Loss: 950.0863481089473\n"
     ]
    },
    {
     "name": "stderr",
     "output_type": "stream",
     "text": [
      "100%|██████████| 700/700 [00:07<00:00, 87.98it/s]\n"
     ]
    },
    {
     "name": "stdout",
     "output_type": "stream",
     "text": [
      "Epoch: 51 | Loss: 950.8759074360132\n"
     ]
    },
    {
     "name": "stderr",
     "output_type": "stream",
     "text": [
      "100%|██████████| 700/700 [00:07<00:00, 88.03it/s]\n"
     ]
    },
    {
     "name": "stdout",
     "output_type": "stream",
     "text": [
      "Epoch: 52 | Loss: 949.1204069256783\n"
     ]
    },
    {
     "name": "stderr",
     "output_type": "stream",
     "text": [
      "100%|██████████| 700/700 [00:07<00:00, 87.97it/s]\n"
     ]
    },
    {
     "name": "stdout",
     "output_type": "stream",
     "text": [
      "Epoch: 53 | Loss: 947.904205262661\n"
     ]
    },
    {
     "name": "stderr",
     "output_type": "stream",
     "text": [
      "100%|██████████| 700/700 [00:07<00:00, 88.05it/s]\n"
     ]
    },
    {
     "name": "stdout",
     "output_type": "stream",
     "text": [
      "Epoch: 54 | Loss: 944.2169529870152\n"
     ]
    },
    {
     "name": "stderr",
     "output_type": "stream",
     "text": [
      "100%|██████████| 700/700 [00:07<00:00, 87.96it/s]\n"
     ]
    },
    {
     "name": "stdout",
     "output_type": "stream",
     "text": [
      "Epoch: 55 | Loss: 943.1463708505034\n"
     ]
    },
    {
     "name": "stderr",
     "output_type": "stream",
     "text": [
      "100%|██████████| 700/700 [00:07<00:00, 88.01it/s]\n"
     ]
    },
    {
     "name": "stdout",
     "output_type": "stream",
     "text": [
      "Epoch: 56 | Loss: 940.7397491708398\n"
     ]
    },
    {
     "name": "stderr",
     "output_type": "stream",
     "text": [
      "100%|██████████| 700/700 [00:07<00:00, 88.65it/s]\n"
     ]
    },
    {
     "name": "stdout",
     "output_type": "stream",
     "text": [
      "Epoch: 57 | Loss: 937.6944184303284\n"
     ]
    },
    {
     "name": "stderr",
     "output_type": "stream",
     "text": [
      "100%|██████████| 700/700 [00:08<00:00, 80.44it/s]\n"
     ]
    },
    {
     "name": "stdout",
     "output_type": "stream",
     "text": [
      "Epoch: 58 | Loss: 939.3224634826183\n"
     ]
    },
    {
     "name": "stderr",
     "output_type": "stream",
     "text": [
      "100%|██████████| 700/700 [00:08<00:00, 85.82it/s]\n"
     ]
    },
    {
     "name": "stdout",
     "output_type": "stream",
     "text": [
      "Epoch: 59 | Loss: 934.601231880486\n"
     ]
    },
    {
     "name": "stderr",
     "output_type": "stream",
     "text": [
      "100%|██████████| 700/700 [00:07<00:00, 88.54it/s]\n"
     ]
    },
    {
     "name": "stdout",
     "output_type": "stream",
     "text": [
      "Epoch: 60 | Loss: 932.4049851149321\n"
     ]
    },
    {
     "name": "stderr",
     "output_type": "stream",
     "text": [
      "100%|██████████| 700/700 [00:07<00:00, 88.53it/s]\n"
     ]
    },
    {
     "name": "stdout",
     "output_type": "stream",
     "text": [
      "Epoch: 61 | Loss: 934.8224903196096\n"
     ]
    },
    {
     "name": "stderr",
     "output_type": "stream",
     "text": [
      "100%|██████████| 700/700 [00:07<00:00, 88.46it/s]\n"
     ]
    },
    {
     "name": "stdout",
     "output_type": "stream",
     "text": [
      "Epoch: 62 | Loss: 930.6418070346117\n"
     ]
    },
    {
     "name": "stderr",
     "output_type": "stream",
     "text": [
      "100%|██████████| 700/700 [00:07<00:00, 88.47it/s]\n"
     ]
    },
    {
     "name": "stdout",
     "output_type": "stream",
     "text": [
      "Epoch: 63 | Loss: 931.3982972279191\n"
     ]
    },
    {
     "name": "stderr",
     "output_type": "stream",
     "text": [
      "100%|██████████| 700/700 [00:07<00:00, 88.96it/s]\n"
     ]
    },
    {
     "name": "stdout",
     "output_type": "stream",
     "text": [
      "Epoch: 64 | Loss: 931.5238173082471\n"
     ]
    },
    {
     "name": "stderr",
     "output_type": "stream",
     "text": [
      "100%|██████████| 700/700 [00:07<00:00, 88.53it/s]\n"
     ]
    },
    {
     "name": "stdout",
     "output_type": "stream",
     "text": [
      "Epoch: 65 | Loss: 928.8769996017218\n"
     ]
    },
    {
     "name": "stderr",
     "output_type": "stream",
     "text": [
      "100%|██████████| 700/700 [00:07<00:00, 88.51it/s]\n"
     ]
    },
    {
     "name": "stdout",
     "output_type": "stream",
     "text": [
      "Epoch: 66 | Loss: 925.2079020291567\n"
     ]
    },
    {
     "name": "stderr",
     "output_type": "stream",
     "text": [
      "100%|██████████| 700/700 [00:07<00:00, 88.48it/s]\n"
     ]
    },
    {
     "name": "stdout",
     "output_type": "stream",
     "text": [
      "Epoch: 67 | Loss: 923.8571067452431\n"
     ]
    },
    {
     "name": "stderr",
     "output_type": "stream",
     "text": [
      "100%|██████████| 700/700 [00:07<00:00, 88.61it/s]\n"
     ]
    },
    {
     "name": "stdout",
     "output_type": "stream",
     "text": [
      "Epoch: 68 | Loss: 922.437731936574\n"
     ]
    },
    {
     "name": "stderr",
     "output_type": "stream",
     "text": [
      "100%|██████████| 700/700 [00:07<00:00, 88.71it/s]\n"
     ]
    },
    {
     "name": "stdout",
     "output_type": "stream",
     "text": [
      "Epoch: 69 | Loss: 920.6525191217661\n"
     ]
    },
    {
     "name": "stderr",
     "output_type": "stream",
     "text": [
      "100%|██████████| 700/700 [00:07<00:00, 88.06it/s]\n"
     ]
    },
    {
     "name": "stdout",
     "output_type": "stream",
     "text": [
      "Epoch: 70 | Loss: 915.8125018700957\n"
     ]
    },
    {
     "name": "stderr",
     "output_type": "stream",
     "text": [
      "100%|██████████| 700/700 [00:07<00:00, 87.89it/s]\n"
     ]
    },
    {
     "name": "stdout",
     "output_type": "stream",
     "text": [
      "Epoch: 71 | Loss: 915.8664417862892\n"
     ]
    },
    {
     "name": "stderr",
     "output_type": "stream",
     "text": [
      "100%|██████████| 700/700 [00:07<00:00, 87.88it/s]\n"
     ]
    },
    {
     "name": "stdout",
     "output_type": "stream",
     "text": [
      "Epoch: 72 | Loss: 914.8006425648928\n"
     ]
    },
    {
     "name": "stderr",
     "output_type": "stream",
     "text": [
      "100%|██████████| 700/700 [00:07<00:00, 88.04it/s]\n"
     ]
    },
    {
     "name": "stdout",
     "output_type": "stream",
     "text": [
      "Epoch: 73 | Loss: 909.6516040861607\n"
     ]
    },
    {
     "name": "stderr",
     "output_type": "stream",
     "text": [
      "100%|██████████| 700/700 [00:07<00:00, 87.82it/s]\n"
     ]
    },
    {
     "name": "stdout",
     "output_type": "stream",
     "text": [
      "Epoch: 74 | Loss: 906.1255554780364\n"
     ]
    },
    {
     "name": "stderr",
     "output_type": "stream",
     "text": [
      "100%|██████████| 700/700 [00:07<00:00, 87.66it/s]\n"
     ]
    },
    {
     "name": "stdout",
     "output_type": "stream",
     "text": [
      "Epoch: 75 | Loss: 905.1694183275104\n"
     ]
    },
    {
     "name": "stderr",
     "output_type": "stream",
     "text": [
      "100%|██████████| 700/700 [00:07<00:00, 87.80it/s]\n"
     ]
    },
    {
     "name": "stdout",
     "output_type": "stream",
     "text": [
      "Epoch: 76 | Loss: 904.6280265897512\n"
     ]
    },
    {
     "name": "stderr",
     "output_type": "stream",
     "text": [
      "100%|██████████| 700/700 [00:08<00:00, 84.76it/s]\n"
     ]
    },
    {
     "name": "stdout",
     "output_type": "stream",
     "text": [
      "Epoch: 77 | Loss: 903.0168069750071\n"
     ]
    },
    {
     "name": "stderr",
     "output_type": "stream",
     "text": [
      "100%|██████████| 700/700 [00:07<00:00, 87.64it/s]\n"
     ]
    },
    {
     "name": "stdout",
     "output_type": "stream",
     "text": [
      "Epoch: 78 | Loss: 899.7734067589045\n"
     ]
    },
    {
     "name": "stderr",
     "output_type": "stream",
     "text": [
      "100%|██████████| 700/700 [00:07<00:00, 88.51it/s]\n"
     ]
    },
    {
     "name": "stdout",
     "output_type": "stream",
     "text": [
      "Epoch: 79 | Loss: 897.9345528781414\n"
     ]
    },
    {
     "name": "stderr",
     "output_type": "stream",
     "text": [
      "100%|██████████| 700/700 [00:07<00:00, 88.43it/s]\n"
     ]
    },
    {
     "name": "stdout",
     "output_type": "stream",
     "text": [
      "Epoch: 80 | Loss: 896.1013332083821\n"
     ]
    },
    {
     "name": "stderr",
     "output_type": "stream",
     "text": [
      "100%|██████████| 700/700 [00:07<00:00, 88.42it/s]\n"
     ]
    },
    {
     "name": "stdout",
     "output_type": "stream",
     "text": [
      "Epoch: 81 | Loss: 894.1942103430629\n"
     ]
    },
    {
     "name": "stderr",
     "output_type": "stream",
     "text": [
      "100%|██████████| 700/700 [00:07<00:00, 88.81it/s]\n"
     ]
    },
    {
     "name": "stdout",
     "output_type": "stream",
     "text": [
      "Epoch: 82 | Loss: 891.5017141997814\n"
     ]
    },
    {
     "name": "stderr",
     "output_type": "stream",
     "text": [
      "100%|██████████| 700/700 [00:07<00:00, 88.94it/s]\n"
     ]
    },
    {
     "name": "stdout",
     "output_type": "stream",
     "text": [
      "Epoch: 83 | Loss: 891.4996096715331\n"
     ]
    },
    {
     "name": "stderr",
     "output_type": "stream",
     "text": [
      "100%|██████████| 700/700 [00:08<00:00, 87.03it/s]\n"
     ]
    },
    {
     "name": "stdout",
     "output_type": "stream",
     "text": [
      "Epoch: 84 | Loss: 887.3829964548349\n"
     ]
    },
    {
     "name": "stderr",
     "output_type": "stream",
     "text": [
      "100%|██████████| 700/700 [00:09<00:00, 76.97it/s]\n"
     ]
    },
    {
     "name": "stdout",
     "output_type": "stream",
     "text": [
      "Epoch: 85 | Loss: 885.8313204273582\n"
     ]
    },
    {
     "name": "stderr",
     "output_type": "stream",
     "text": [
      "100%|██████████| 700/700 [00:08<00:00, 78.65it/s]\n"
     ]
    },
    {
     "name": "stdout",
     "output_type": "stream",
     "text": [
      "Epoch: 86 | Loss: 884.6600716263056\n"
     ]
    },
    {
     "name": "stderr",
     "output_type": "stream",
     "text": [
      "100%|██████████| 700/700 [00:07<00:00, 88.56it/s]\n"
     ]
    },
    {
     "name": "stdout",
     "output_type": "stream",
     "text": [
      "Epoch: 87 | Loss: 883.3944241628051\n"
     ]
    },
    {
     "name": "stderr",
     "output_type": "stream",
     "text": [
      "100%|██████████| 700/700 [00:07<00:00, 88.46it/s]\n"
     ]
    },
    {
     "name": "stdout",
     "output_type": "stream",
     "text": [
      "Epoch: 88 | Loss: 881.5626002922654\n"
     ]
    },
    {
     "name": "stderr",
     "output_type": "stream",
     "text": [
      "100%|██████████| 700/700 [00:07<00:00, 88.55it/s]\n"
     ]
    },
    {
     "name": "stdout",
     "output_type": "stream",
     "text": [
      "Epoch: 89 | Loss: 880.2914931252599\n"
     ]
    },
    {
     "name": "stderr",
     "output_type": "stream",
     "text": [
      "100%|██████████| 700/700 [00:07<00:00, 88.54it/s]\n"
     ]
    },
    {
     "name": "stdout",
     "output_type": "stream",
     "text": [
      "Epoch: 90 | Loss: 878.2455834895372\n"
     ]
    },
    {
     "name": "stderr",
     "output_type": "stream",
     "text": [
      "100%|██████████| 700/700 [00:07<00:00, 88.77it/s]\n"
     ]
    },
    {
     "name": "stdout",
     "output_type": "stream",
     "text": [
      "Epoch: 91 | Loss: 877.3840539976954\n"
     ]
    },
    {
     "name": "stderr",
     "output_type": "stream",
     "text": [
      "100%|██████████| 700/700 [00:07<00:00, 96.97it/s]\n"
     ]
    },
    {
     "name": "stdout",
     "output_type": "stream",
     "text": [
      "Epoch: 92 | Loss: 875.9399463459849\n"
     ]
    },
    {
     "name": "stderr",
     "output_type": "stream",
     "text": [
      "100%|██████████| 700/700 [00:07<00:00, 97.92it/s]\n"
     ]
    },
    {
     "name": "stdout",
     "output_type": "stream",
     "text": [
      "Epoch: 93 | Loss: 874.1190492063761\n"
     ]
    },
    {
     "name": "stderr",
     "output_type": "stream",
     "text": [
      "100%|██████████| 700/700 [00:07<00:00, 92.16it/s]\n"
     ]
    },
    {
     "name": "stdout",
     "output_type": "stream",
     "text": [
      "Epoch: 94 | Loss: 873.1512119919062\n"
     ]
    },
    {
     "name": "stderr",
     "output_type": "stream",
     "text": [
      "100%|██████████| 700/700 [00:07<00:00, 88.69it/s]\n"
     ]
    },
    {
     "name": "stdout",
     "output_type": "stream",
     "text": [
      "Epoch: 95 | Loss: 873.402904137969\n"
     ]
    },
    {
     "name": "stderr",
     "output_type": "stream",
     "text": [
      "100%|██████████| 700/700 [00:07<00:00, 88.69it/s]\n"
     ]
    },
    {
     "name": "stdout",
     "output_type": "stream",
     "text": [
      "Epoch: 96 | Loss: 870.9827398136258\n"
     ]
    },
    {
     "name": "stderr",
     "output_type": "stream",
     "text": [
      "100%|██████████| 700/700 [00:07<00:00, 88.60it/s]\n"
     ]
    },
    {
     "name": "stdout",
     "output_type": "stream",
     "text": [
      "Epoch: 97 | Loss: 870.6921853721142\n"
     ]
    },
    {
     "name": "stderr",
     "output_type": "stream",
     "text": [
      "100%|██████████| 700/700 [00:07<00:00, 88.46it/s]\n"
     ]
    },
    {
     "name": "stdout",
     "output_type": "stream",
     "text": [
      "Epoch: 98 | Loss: 870.151337146759\n"
     ]
    },
    {
     "name": "stderr",
     "output_type": "stream",
     "text": [
      "100%|██████████| 700/700 [00:07<00:00, 88.15it/s]\n"
     ]
    },
    {
     "name": "stdout",
     "output_type": "stream",
     "text": [
      "Epoch: 99 | Loss: 869.7161606401205\n"
     ]
    },
    {
     "name": "stderr",
     "output_type": "stream",
     "text": [
      "Generate explanation for each data: 100%|██████████| 200/200 [00:03<00:00, 55.35it/s]"
     ]
    },
    {
     "name": "stdout",
     "output_type": "stream",
     "text": [
      "Fidelity: 0.0029\n",
      "Fidelity_inv: 0.4645\n",
      "Sparsity: 0.7678\n",
      "Train Acc: 0.9943, Valid Acc: 1.0000, Test Acc: 0.0150\n"
     ]
    },
    {
     "name": "stderr",
     "output_type": "stream",
     "text": [
      "\n"
     ]
    }
   ],
   "source": [
    "model.eval()\n",
    "if args.explainer_model == \"GNNExplainer\":\n",
    "    explainer = GNNExplainer(model, epochs=args.ex_epoch, lr=args.ex_lr, explain_graph=True)\n",
    "elif args.explainer_model == \"PGExplainer\":\n",
    "    explainer = PGExplainer(\n",
    "        model, in_channels=args.gnn_hid_dim*2, epochs=args.ex_epoch, lr=args.ex_lr, \n",
    "        explain_graph=True, device=device\n",
    "    ).to(device)\n",
    "    print(\"training PGExplainer\")\n",
    "    explainer.train_explanation_network(train_dataset)\n",
    "else:\n",
    "    raise ValueError(\"%s is not a available explainer model\" % args.explainer_model)\n",
    "\n",
    "x_collector, ex_list = generate_explanation_dig(\n",
    "    args=args, model=model, explainer=explainer, dataset=test_dataset, device=device\n",
    ")\n",
    "\n",
    "if args.save_explanation:\n",
    "    save_edge_masks_dig(args=args, ex_list=ex_list)\n",
    "    \n",
    "print(f'Fidelity: {x_collector.fidelity:.4f}\\n'\n",
    "      f'Fidelity_inv: {x_collector.fidelity_inv:.4f}\\n'\n",
    "      f'Sparsity: {x_collector.sparsity:.4f}')\n",
    "print(f'Train Acc: {train_acc:.4f}, Valid Acc: {val_acc:.4f}, Test Acc: {test_acc:.4f}')"
   ],
   "metadata": {
    "collapsed": false,
    "ExecuteTime": {
     "end_time": "2024-02-13T17:50:50.977607Z",
     "start_time": "2024-02-13T17:37:21.688213Z"
    }
   },
   "id": "3e0a89c93825d4f2"
  },
  {
   "cell_type": "code",
   "execution_count": 6,
   "outputs": [],
   "source": [],
   "metadata": {
    "collapsed": false,
    "ExecuteTime": {
     "end_time": "2024-02-13T17:50:50.978051Z",
     "start_time": "2024-02-13T17:50:50.977351Z"
    }
   },
   "id": "8e68b64d94408c88"
  },
  {
   "cell_type": "code",
   "execution_count": 7,
   "outputs": [],
   "source": [
    "# save results\n",
    "args.fidelity = round(x_collector.fidelity, 4)\n",
    "args.fidelity_inv = round(x_collector.fidelity_inv, 4)\n",
    "args.sparsity = round(x_collector.sparsity, 4)\n",
    "args.train_acc = round(train_acc, 4)\n",
    "args.val_acc = round(val_acc, 4)\n",
    "args.test_acc = round(test_acc, 4)\n",
    "with open('result_record.txt', 'a') as file:\n",
    "    file.write('\\n')\n",
    "    file.write(str(args))"
   ],
   "metadata": {
    "collapsed": false,
    "ExecuteTime": {
     "end_time": "2024-02-13T17:50:50.978108Z",
     "start_time": "2024-02-13T17:50:50.977587Z"
    }
   },
   "id": "b7657e35b3ad9fc7"
  },
  {
   "cell_type": "code",
   "execution_count": 7,
   "outputs": [],
   "source": [],
   "metadata": {
    "collapsed": false,
    "ExecuteTime": {
     "end_time": "2024-02-13T17:50:50.978162Z",
     "start_time": "2024-02-13T17:50:50.977677Z"
    }
   },
   "id": "39958d6bb7ac98d6"
  }
 ],
 "metadata": {
  "kernelspec": {
   "display_name": "Python 3",
   "language": "python",
   "name": "python3"
  },
  "language_info": {
   "codemirror_mode": {
    "name": "ipython",
    "version": 2
   },
   "file_extension": ".py",
   "mimetype": "text/x-python",
   "name": "python",
   "nbconvert_exporter": "python",
   "pygments_lexer": "ipython2",
   "version": "2.7.6"
  }
 },
 "nbformat": 4,
 "nbformat_minor": 5
}
